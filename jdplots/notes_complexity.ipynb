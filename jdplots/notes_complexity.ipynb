{
 "cells": [
  {
   "cell_type": "code",
   "execution_count": 1,
   "metadata": {},
   "outputs": [],
   "source": [
    "from utils import load_obj\n",
    "from tools_draw import add_subplot_axes\n",
    "import numpy as np\n",
    "import matplotlib.pyplot as plt\n",
    "from utils import load_obj0, get_values\n",
    "from matplotlib.ticker import FormatStrFormatter\n",
    "import matplotlib as mpl\n",
    "import pickle"
   ]
  },
  {
   "cell_type": "code",
   "execution_count": 7,
   "metadata": {},
   "outputs": [
    {
     "name": "stdout",
     "output_type": "stream",
     "text": [
      "selected runid is 4\n"
     ]
    }
   ],
   "source": [
    "# read results from tlnmf2_best_sci_batch, find out best runid with smallest Cs\n",
    "# run_table4b.sh\n",
    "\n",
    "S = 100\n",
    "iter_tl = 100\n",
    "iter_pertl = 1\n",
    "iter_pernmf = 10\n",
    "eps_nmf = 5e-7\n",
    "ws = 40e-3\n",
    "nbrun = 10\n",
    "K = 2\n",
    "window = 4\n",
    "L = S\n",
    "\n",
    "# WITH ME\n",
    "name = 'tlnmf2_sci_batch' + '_K' + str(K) + '_S' + str(L) + '_win' + str(window)\n",
    "sn = 'nonstationary440_sim1_5k'\n",
    "FOL = '../results_' + sn + '/'\n",
    "outfol = 'tlnmf2_best' + '_itl' + str(iter_tl) + '_Ttl' + str(iter_pertl) +\\\n",
    "         '_Tnmf' + str(iter_pernmf) +\\\n",
    "         '_epsnmf' + str(eps_nmf) + '_ws' + str(int(ws*1000))  + 'ms' + '_me'\n",
    "outfol = outfol + '_nbrun' + str(nbrun) \n",
    "\n",
    "ckpt = pickle.load(open(FOL + outfol + '/' + name + '.pkl', \"rb\"))\n",
    "\n",
    "runid = np.argmin(ckpt['alossC'])\n",
    "print('selected runid is',runid)"
   ]
  },
  {
   "cell_type": "code",
   "execution_count": 8,
   "metadata": {},
   "outputs": [
    {
     "name": "stdout",
     "output_type": "stream",
     "text": [
      "tl:T_eps 1\n",
      "jd:T_eps 1\n"
     ]
    },
    {
     "data": {
      "image/png": "[encoded data removed]",
      "text/plain": [
       "<Figure size 800x480 with 1 Axes>"
      ]
     },
     "metadata": {
      "needs_background": "light"
     },
     "output_type": "display_data"
    }
   ],
   "source": [
    "# GET FROM step 2 of run_table4b.sh\n",
    "# ME ./results/nonstationary440_sim1_5k_itl100_run4_Ttl1_Tnmf10_me/tlnmf2b_sci_batch_nonstationary440_sim1_5k_K2_S100_win4_ws40ms_epsnmf5e-07\n",
    "\n",
    "rseed = 100\n",
    "s = 100\n",
    "runid = 4\n",
    "eps = -400000\n",
    "ratio = 10\n",
    "Ttl = 1\n",
    "Tnmf = ratio*Ttl\n",
    "itl = 100\n",
    "eps_nmf = '5e-07'\n",
    "outname = 'Notes_complexity_S' + str(s)\n",
    "# WITH ME\n",
    "# nonstationary440_sim1_5k_rseed100_itl100_ratio10_run4_me\n",
    "jd_outfol = '../results_jd/' + sn + '_rseed' + str(rseed) + '_itl' + str(itl) + '_ratio' + str(ratio) + '_run' + str(runid) + '_me' # ME\n",
    "jd_obj = load_obj0(jd_outfol + '/tlnmfJD2b_sci_batch_' + sn + '_K2_S' + str(s) + '_win4_ws40ms_epsc' + eps_nmf + '.pkl')\n",
    "tlnmf_obj = load_obj0('../results/' + sn + '_itl' + str(itl) + '_run' + str(runid)  +\\\n",
    "                      '_Ttl' + str(Ttl) + '_Tnmf' + str(Tnmf) + '_me' +\\\n",
    "                      '/tlnmf2b_sci_batch_' + sn + '_K2_S' + str(s) + '_win4_ws40ms_epsnmf' +\\\n",
    "                      eps_nmf + '.pkl')\n",
    "\n",
    "assert(Ttl==1)\n",
    "\n",
    "jd_infos = jd_obj['infos']\n",
    "tlnmf_infos = tlnmf_obj['infos']\n",
    "\n",
    "nb_tlnmf_inter = np.array(tlnmf_infos['gs_obj_iter'])/Ttl # budget t\n",
    "nb_jd_inter = np.array(jd_infos['gs_obj_iter'])/Ttl # budget t\n",
    "Cs_tlnmf = np.array(get_values(tlnmf_infos['gs_obj_dict'],'Cs'))\n",
    "Cs_jd = get_values(jd_infos['gs_obj_dict'],'Cs')\n",
    "\n",
    "plt.figure(figsize=(10,6),dpi=80)\n",
    "plt.plot(nb_tlnmf_inter,Cs_tlnmf,'-')\n",
    "plt.plot(nb_jd_inter,Cs_jd,'--')\n",
    "\n",
    "ite_tl = np.array( tlnmf_infos['gs_obj_iter'] )\n",
    "CS_tl = np.array( get_values(tlnmf_infos['gs_obj_dict'],'Cs') )\n",
    "i_tl = 1 # np.min(np.where( CS_tl < eps ))\n",
    "T_eps_tl = ite_tl[i_tl]\n",
    "print('tl:T_eps',T_eps_tl)\n",
    "\n",
    "ite_jd = np.array( jd_infos['gs_obj_iter'] )\n",
    "CS_jd = np.array( get_values(jd_infos['gs_obj_dict'],'Cs') )\n",
    "i_jd = 1 # np.min(np.where( CS_jd < eps ))\n",
    "T_eps_jd = ite_jd[i_jd]\n",
    "print('jd:T_eps',T_eps_jd)\n",
    "\n",
    "# store in two tables\n",
    "with open(outname + '_tlnmf.dat', 'w') as the_file:\n",
    "    the_file.write('t\\tCs\\n')\n",
    "    for ite in range(len(ite_tl)):\n",
    "        the_file.write('%d\\t%g\\n' % (ite_tl[ite],CS_tl[ite]))\n",
    "        \n",
    "with open(outname + '_jdnmf.dat', 'w') as the_file:\n",
    "    the_file.write('t\\tCs\\n')                      \n",
    "    for ite in range(len(ite_jd)):\n",
    "        the_file.write('%d\\t%g\\n' % (ite_jd[ite],CS_jd[ite]))\n",
    "\n",
    "            \n",
    "fs = 20\n",
    "\n",
    "plt.xticks(fontsize=fs)\n",
    "plt.yticks(fontsize=fs)\n",
    "plt.ticklabel_format(axis='y',style='sci',scilimits=(0,0))\n",
    "\n",
    "plt.xlabel('budjet t',fontsize=fs)\n",
    "plt.ylabel('$C_S$',fontsize=fs)\n",
    "\n",
    "plt.grid('on')\n",
    "\n",
    "plt.xlim([0,50])\n",
    "plt.ylim([-420000,-370000])\n",
    "\n",
    "\n",
    "#plt.savefig('./jdresults/SPL23/analyse_Cs3_ratio_S' + str(s) + '_rseed' + str(rseed) +\\\n",
    "#            '_runid' + str(runid) + '_Ttl' + str(Ttl) + '_ratio' + str(ratio))\n",
    "\n",
    "\n",
    "plt.show()\n"
   ]
  },
  {
   "cell_type": "code",
   "execution_count": null,
   "metadata": {},
   "outputs": [],
   "source": []
  }
 ],
 "metadata": {
  "kernelspec": {
   "display_name": "Python [conda env:sga]",
   "language": "python",
   "name": "conda-env-sga-py"
  },
  "language_info": {
   "codemirror_mode": {
    "name": "ipython",
    "version": 3
   },
   "file_extension": ".py",
   "mimetype": "text/x-python",
   "name": "python",
   "nbconvert_exporter": "python",
   "pygments_lexer": "ipython3",
   "version": "3.6.10"
  }
 },
 "nbformat": 4,
 "nbformat_minor": 4
}
