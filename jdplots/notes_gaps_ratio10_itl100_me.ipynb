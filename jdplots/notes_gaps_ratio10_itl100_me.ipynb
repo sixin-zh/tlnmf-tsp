{
 "cells": [
  {
   "cell_type": "code",
   "execution_count": 1,
   "metadata": {},
   "outputs": [],
   "source": [
    "# Analyze gaps in IS\n",
    "# run_table3b.sh\n",
    "import matplotlib.pyplot as plt\n",
    "from utils import load_obj\n",
    "import numpy as np"
   ]
  },
  {
   "cell_type": "code",
   "execution_count": 2,
   "metadata": {},
   "outputs": [],
   "source": [
    "root_tlnmf = '../results_nonstationary440_sim1_5k/'\n",
    "root_jd = '../results_jd_best2/nonstationary440_sim1_5k_rseed100_itl100_inmf1000_nbrun10_me/'\n",
    "\n",
    "Sout = [1,10,100,1000,5000]\n",
    "tlname = ['tlnmf2_best2_itl100_Ttl1_Tnmf10_epsnmf5e-07_epsc5e-07_ws40ms_me_nbrun10/tlnmf2_sci_batch_K2_S1_win4',\n",
    "          'tlnmf2_best2_itl100_Ttl1_Tnmf10_epsnmf5e-07_epsc5e-07_ws40ms_me_nbrun10/tlnmf2_sci_batch_K2_S10_win4',\n",
    "          'tlnmf2_best2_itl100_Ttl1_Tnmf10_epsnmf5e-07_epsc5e-07_ws40ms_me_nbrun10/tlnmf2_sci_batch_K2_S100_win4',\n",
    "          'tlnmf2_best2_itl100_Ttl1_Tnmf10_epsnmf5e-07_epsc5e-07_ws40ms_me_nbrun10/tlnmf2_sci_batch_K2_S1000_win4',\n",
    "          'tlnmf2_best2_itl100_Ttl1_Tnmf10_epsnmf5e-07_epsc5e-07_ws40ms_me_nbrun10/tlnmf2_sci_batch_K2_S5000_win4',\n",
    "         ]\n",
    "jdname = ['tlnmfJD2_sci_batch_K2_S1_win4_ws40ms_epsnmf5e-07_epsc5e-07_best',\n",
    "          'tlnmfJD2_sci_batch_K2_S10_win4_ws40ms_epsnmf5e-07_epsc5e-07_best',\n",
    "          'tlnmfJD2_sci_batch_K2_S100_win4_ws40ms_epsnmf5e-07_epsc5e-07_best',\n",
    "          'tlnmfJD2_sci_batch_K2_S1000_win4_ws40ms_epsnmf5e-07_epsc5e-07_best',\n",
    "          'tlnmfJD2_sci_batch_K2_S5000_win4_ws40ms_epsnmf5e-07_epsc5e-07_best',\n",
    "         ]\n"
   ]
  },
  {
   "cell_type": "code",
   "execution_count": 3,
   "metadata": {},
   "outputs": [
    {
     "name": "stdout",
     "output_type": "stream",
     "text": [
      "S 1 CS* is -405498.50297759054\n",
      "S= 1 & Ijd-Itlnmf=505.6\n",
      "S=1 & I_S(Phi_jd)=821.1\n",
      "S=1 & I_S(Phi_tlnmf)=315.6\n",
      "S= 10 & Ijd-Itlnmf=41.46\n",
      "S=10 & I_S(Phi_jd)=70.06\n",
      "S=10 & I_S(Phi_tlnmf)=28.6\n",
      "S= 100 & Ijd-Itlnmf=0.01326\n",
      "S=100 & I_S(Phi_jd)=3.677\n",
      "S=100 & I_S(Phi_tlnmf)=3.664\n",
      "S= 1000 & Ijd-Itlnmf=0.004451\n",
      "S=1000 & I_S(Phi_jd)=2.991\n",
      "S=1000 & I_S(Phi_tlnmf)=2.986\n",
      "S= 5000 & Ijd-Itlnmf=0.004459\n",
      "S=5000 & I_S(Phi_jd)=2.849\n",
      "S=5000 & I_S(Phi_tlnmf)=2.845\n"
     ]
    }
   ],
   "source": [
    "\n",
    "jdout = [None] * len(Sout)\n",
    "tlnmfout = [None] * len(Sout)\n",
    "diff = [None] * len(Sout)\n",
    "rseed = [100]\n",
    "nbrun = 10\n",
    "\n",
    "\n",
    "Ijds = [0] * len(Sout)\n",
    "Idiffs = [0] * len(Sout)\n",
    "if rseed[0]==100:\n",
    "    for sid in range(len(Sout)):\n",
    "        S = Sout[sid]\n",
    "        if 1:\n",
    "            jdout[sid] = jdname[sid] #  + '_S' + str(S) + '_rseed' + str(rseed[rid])\n",
    "        tlnmfout[sid] = tlname[sid] # tlnmfname + '_S' + str(S) + '_rseed' + str(rseed[rid])        \n",
    "    \n",
    "    for sid in range(len(Sout)):\n",
    "        #print('BEGIN')\n",
    "        #print('sid',sid)\n",
    "        S = Sout[sid]\n",
    "        # load results from TL-NMF\n",
    "        tlnmf = load_obj(root_tlnmf + tlnmfout[sid])\n",
    "        tlnmf_alossC = tlnmf['alossC']\n",
    "        tlnmf_alossL = tlnmf['alossL']\n",
    "        tlnmf_alossI = tlnmf['alossISNMF']\n",
    "        \n",
    "        \n",
    "        Ctlnmf_idx= np.argmin(tlnmf_alossC) # tlnmf['alossC'])\n",
    "        if sid==0:\n",
    "            print('S',S,'CS* is',tlnmf_alossC[Ctlnmf_idx])\n",
    "        if 0:\n",
    "            print('S',S,'Ctlnmf runid is ',Ctlnmf_idx, '; jdnmf runid is',jd['best_nmf_id'])\n",
    "\n",
    "        #print('Is of tlnmf', tlnmf_alossI)\n",
    "        \n",
    "        if 0:\n",
    "            plt.subplot(121)\n",
    "            plt.plot(tlnmf_alossC)\n",
    "            plt.title('Cs of tlnmf')\n",
    "        \n",
    "        if 1:\n",
    "            # load results from JD\n",
    "            jd = load_obj(root_jd + jdout[sid])\n",
    "            #print(tlnmf['alossL'])\n",
    "            #print(jd['alossC'])\n",
    "            #break\n",
    "\n",
    "            #plt.subplot(122)\n",
    "            #plt.plot(jd['alossC'])\n",
    "            #plt.title('Cs of jd+nmf')\n",
    "\n",
    "            \n",
    "            #print('S=',S, 'Is of jd+nmf',np.min(jd['alossISNMF']))\n",
    "        \n",
    "            Ijd = jd['alossISNMF'][jd['best_nmf_id']]\n",
    "            Ljd = jd['best_lossL']\n",
    "            Cjd = jd['alossC'][jd['best_nmf_id']]\n",
    "            \n",
    "            Ijds[sid] = Ijd\n",
    "        \n",
    "        Ctlnmf = tlnmf_alossC[Ctlnmf_idx] # tlnmf['alossC'][Ctlnmf_idx]\n",
    "        Ltlnmf = tlnmf_alossL[Ctlnmf_idx] # ['alossL'][Ctlnmf_idx]\n",
    "        Itlnmf = tlnmf_alossI[Ctlnmf_idx]\n",
    "        #print('S',S, 'CS',Ctlnmf,'LS',Ltlnmf,'IS',Itlnmf)\n",
    "        Idiffs[sid] = Ijd - Itlnmf\n",
    "\n",
    "        if 1:\n",
    "            #print('main:')\n",
    "            #print('S=%d & Cjd-Ctlnmf=%.4g' % (S, Cjd-Ctlnmf)) # , Ctlnmf_LD[sid]-Jd_L[sid]) )        \n",
    "            #print('S=%d & Ltlnmf-Ljd=%.4g' % (S, Ltlnmf-Ljd)) # , Ctlnmf_LD[sid]-Jd_L[sid]) )\n",
    "            print('S= %d & Ijd-Itlnmf=%.4g' % (S,Ijd-Itlnmf))\n",
    "            #print('supp:')\n",
    "            print('S=%d & I_S(Phi_jd)=%.4g' % (S,Ijd))\n",
    "            print('S=%d & I_S(Phi_tlnmf)=%.4g' % (S,Itlnmf))\n",
    "\n",
    "        #print('END')"
   ]
  },
  {
   "cell_type": "code",
   "execution_count": 4,
   "metadata": {},
   "outputs": [
    {
     "data": {
      "image/png": "[encoded data removed]",
      "text/plain": [
       "<Figure size 432x288 with 1 Axes>"
      ]
     },
     "metadata": {
      "needs_background": "light"
     },
     "output_type": "display_data"
    }
   ],
   "source": [
    "Is = [0] * len(Sout)\n",
    "for sid in range(len(Sout)):\n",
    "    Is[sid] = 1.0  / Sout[sid]\n",
    "    \n",
    "plt.plot(Sout,Ijds)\n",
    "plt.plot(Sout,Idiffs)\n",
    "plt.plot(Sout,Is)\n",
    "plt.yscale('log')\n",
    "plt.xscale('log')\n",
    "plt.legend(['I_S^dot','I_S^dot-I_S^*','1/S'])\n",
    "plt.xlabel('S')\n",
    "plt.title('Notes K=2')\n",
    "plt.show()"
   ]
  },
  {
   "cell_type": "code",
   "execution_count": null,
   "metadata": {},
   "outputs": [],
   "source": []
  }
 ],
 "metadata": {
  "kernelspec": {
   "display_name": "Python [conda env:sga]",
   "language": "python",
   "name": "conda-env-sga-py"
  },
  "language_info": {
   "codemirror_mode": {
    "name": "ipython",
    "version": 3
   },
   "file_extension": ".py",
   "mimetype": "text/x-python",
   "name": "python",
   "nbconvert_exporter": "python",
   "pygments_lexer": "ipython3",
   "version": "3.6.10"
  }
 },
 "nbformat": 4,
 "nbformat_minor": 4
}
